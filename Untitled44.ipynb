{
 "cells": [
  {
   "cell_type": "markdown",
   "metadata": {},
   "source": [
    "### Introduction"
   ]
  },
  {
   "cell_type": "markdown",
   "metadata": {},
   "source": [
    "In this post we want to present [our _Image Segmentation_ library](https://github.com/warmspringwinds/tf-image-segmentation)\n",
    "that is based on _Tensorflow_ and _TF-Slim_ library, share some\n",
    "insights and thoughts and demonstrate one application of _Image Segmentation_. \n",
    "\n",
    "To be more precise, we trained _FCN-32s_, _FCN-16s_ and _FCN-8s_ models\n",
    "that were described in the paper \"Fully Convolutional Networks for Semantic Segmentation\"\n",
    "by Long et al on _PASCAL VOC_ _Image Segmentation_ dataset and got similar accuracies\n",
    "compared to results that are demonstrated in the paper.\n",
    "\n",
    "We provide all the training scripts and scripts to convert _PASCAL VOC_ into\n",
    "easier to use _.tfrecords_ file. Moreover, it is very easy to apply the same\n",
    "scripts to a custom dataset of your own.\n",
    "\n",
    "Also, in the repository, you can find all the trained weights and scripts to benchmark\n",
    "the provided models against _PASCAL VOC_. All the _FCN_ models were trained by using\n",
    "_VGG-16_ network initialization that we took from _TF-Slim_ library.\n",
    "\n",
    "After that, we demonstrate how to create your own stickers for [Telegram messaging app](https://telegram.org/)\n",
    "using our pretrained models, as a funny application of _Image Segmentation_."
   ]
  },
  {
   "cell_type": "markdown",
   "metadata": {},
   "source": [
    "### Training on PASCAL VOC"
   ]
  },
  {
   "cell_type": "markdown",
   "metadata": {},
   "source": [
    "The models were trained on Augmented PASCAL VOC dataset which is mentioned in the paper\n",
    "by Long et al. The _FCN-32s_ model was initialized from _VGG-16_ model and trained for\n",
    "one hundred iterations. The _FCN-16s_ was initialized with _FCN-32s_ weights and\n",
    "also trained for one hundred iterations. _FCN-8s_ was trained in the same fashion with\n",
    "initialization from _FCN-16s_ model.\n",
    "\n",
    "The reason why the authors of the paper add _skips_ is because the results produced\n",
    "by the _FCN-32s_ architecture are too coarse and _skips_ are added to lower layers\n",
    "of the _VGG-16_ network which were affected by smaller number of _max-pooling_ layers\n",
    "of _VGG-16_ and, therefore, can give finer predictions while still taking into\n",
    "account more reliable higher level predictions.\n",
    "\n",
    "![alt text](https://github.com/warmspringwinds/tensorflow_notes/blob/master/data/imgs/me.jpg)"
   ]
  }
 ],
 "metadata": {
  "kernelspec": {
   "display_name": "Python 2",
   "language": "python",
   "name": "python2"
  },
  "language_info": {
   "codemirror_mode": {
    "name": "ipython",
    "version": 2
   },
   "file_extension": ".py",
   "mimetype": "text/x-python",
   "name": "python",
   "nbconvert_exporter": "python",
   "pygments_lexer": "ipython2",
   "version": "2.7.11"
  }
 },
 "nbformat": 4,
 "nbformat_minor": 0
}
